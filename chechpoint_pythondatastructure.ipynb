{
 "cells": [
  {
   "cell_type": "code",
   "execution_count": 3,
   "id": "1ebf3400",
   "metadata": {},
   "outputs": [
    {
     "name": "stdout",
     "output_type": "stream",
     "text": [
      "36\n"
     ]
    }
   ],
   "source": [
    "list=[2, 3, 6]\n",
    "x = list[0]\n",
    "y = list[1]\n",
    "z = list[2]\n",
    "print(x*y*z)"
   ]
  },
  {
   "cell_type": "code",
   "execution_count": 23,
   "id": "56c68886",
   "metadata": {},
   "outputs": [
    {
     "name": "stdout",
     "output_type": "stream",
     "text": [
      "Sorted list: [(2, 1), (1, 2), (2, 3), (4, 4), (2, 5)]\n"
     ]
    }
   ],
   "source": [
    "def takeSecond(elem):\n",
    "    return elem[1]\n",
    "\n",
    "list = [(2, 5), (1, 2), (4, 4), (2, 3), (2, 1)]\n",
    "list.sort(key= takeSecond)\n",
    "print('Sorted list:', list)"
   ]
  },
  {
   "cell_type": "code",
   "execution_count": 40,
   "id": "14c8cff4",
   "metadata": {},
   "outputs": [
    {
     "name": "stdout",
     "output_type": "stream",
     "text": [
      "{'b': 200, 'a': 300, 'c': 300, 'd': 400}\n"
     ]
    }
   ],
   "source": [
    "d3 = {}\n",
    "d1 = {'b': 200, 'a': 100, 'c':300}\n",
    "d2 = {'a': 300, 'b': 200, 'd':400}\n",
    "\n",
    "for k1 in d1.keys():\n",
    "    for k2 in d2.keys():\n",
    "        if (k1 == k2):\n",
    "            d3[k1] = d1[k1] + d2[k2]\n",
    "d3.update(d1)\n",
    "d3.update(d2)\n",
    "print(d3)"
   ]
  },
  {
   "cell_type": "code",
   "execution_count": 12,
   "id": "20d26f14",
   "metadata": {},
   "outputs": [
    {
     "name": "stdout",
     "output_type": "stream",
     "text": [
      "{1: 1, 2: 4, 3: 9, 4: 16, 5: 25, 6: 36, 7: 49, 8: 64}\n"
     ]
    }
   ],
   "source": [
    "dictionary = {}\n",
    "i = 1\n",
    "while i < 9:\n",
    "    g = i*i\n",
    "    dictionary[i]=g\n",
    "    i=i+1\n",
    "    g = 0\n",
    "print(dictionary)   "
   ]
  },
  {
   "cell_type": "code",
   "execution_count": 39,
   "id": "ee8801fc",
   "metadata": {},
   "outputs": [
    {
     "name": "stdout",
     "output_type": "stream",
     "text": [
      "[('item3', '24.5'), ('item2', '15.10'), ('item1', '12.20')]\n"
     ]
    }
   ],
   "source": [
    "\n",
    "def Reverse(list):\n",
    "    new_tup = list[::-1]\n",
    "    return new_tup\n",
    "\n",
    "list= [('item1', '12.20'), ('item2', '15.10'), ('item3', '24.5')]\n",
    "print(Reverse(list))"
   ]
  },
  {
   "cell_type": "code",
   "execution_count": null,
   "id": "8dc5392e",
   "metadata": {},
   "outputs": [],
   "source": []
  }
 ],
 "metadata": {
  "kernelspec": {
   "display_name": "Python 3",
   "language": "python",
   "name": "python3"
  },
  "language_info": {
   "codemirror_mode": {
    "name": "ipython",
    "version": 3
   },
   "file_extension": ".py",
   "mimetype": "text/x-python",
   "name": "python",
   "nbconvert_exporter": "python",
   "pygments_lexer": "ipython3",
   "version": "3.8.8"
  }
 },
 "nbformat": 4,
 "nbformat_minor": 5
}
